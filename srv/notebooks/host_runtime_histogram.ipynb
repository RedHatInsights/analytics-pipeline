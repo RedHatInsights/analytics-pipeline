{
 "cells": [
  {
   "cell_type": "code",
   "execution_count": 222,
   "metadata": {},
   "outputs": [],
   "source": [
    "import json\n",
    "import requests\n",
    "import pandas as pd\n",
    "from pprint import pprint"
   ]
  },
  {
   "cell_type": "code",
   "execution_count": 223,
   "metadata": {},
   "outputs": [],
   "source": [
    "FASTAPI = 'http://172.27.0.12:8080'\n",
    "TABLES_URL = FASTAPI + '/api/tower-analytics/v1/tables'\n",
    "SQL_URL = FASTAPI + '/api/tower-analytics/v1/sql'"
   ]
  },
  {
   "cell_type": "code",
   "execution_count": 224,
   "metadata": {},
   "outputs": [],
   "source": [
    "rr = requests.get(TABLES_URL)\n",
    "tables = rr.json()"
   ]
  },
  {
   "cell_type": "code",
   "execution_count": 225,
   "metadata": {},
   "outputs": [
    {
     "name": "stdout",
     "output_type": "stream",
     "text": [
      "[\n",
      "  \"cluster\",\n",
      "  \"cluster_info\",\n",
      "  \"cluster_system\",\n",
      "  \"daily_event_explorer_rollup\",\n",
      "  \"daily_job_explorer_rollup\",\n",
      "  \"daily_job_failed_step_rollup\",\n",
      "  \"daily_unique_hosts_rollup\",\n",
      "  \"deprecations\",\n",
      "  \"event_explorer_rollup\",\n",
      "  \"host\",\n",
      "  \"host_event_explorer_rollup\",\n",
      "  \"host_explorer_rollup\",\n",
      "  \"job\",\n",
      "  \"job_events_fk\",\n",
      "  \"job_explorer_rollup\",\n",
      "  \"job_failed_step_rollup\",\n",
      "  \"migrations\",\n",
      "  \"monthly_job_explorer_rollup\",\n",
      "  \"notification\",\n",
      "  \"notification_arg\",\n",
      "  \"notification_code\",\n",
      "  \"notification_severity\",\n",
      "  \"notification_type\",\n",
      "  \"organization\",\n",
      "  \"play\",\n",
      "  \"playbook\",\n",
      "  \"role\",\n",
      "  \"rollup_jobs\",\n",
      "  \"system\",\n",
      "  \"system_info\",\n",
      "  \"task\",\n",
      "  \"task_action\",\n",
      "  \"unified_jobs_fk\",\n",
      "  \"warnings\",\n",
      "  \"workflow_job_nodes\",\n",
      "  \"yearly_job_explorer_rollup\"\n",
      "]\n"
     ]
    }
   ],
   "source": [
    "print(json.dumps(sorted(set([x['table'] for x in tables])), indent=2))"
   ]
  },
  {
   "cell_type": "code",
   "execution_count": 226,
   "metadata": {},
   "outputs": [
    {
     "name": "stdout",
     "output_type": "stream",
     "text": [
      "[{'cluster_id': 1,\n",
      "  'install_uuid': 'ba8dbb23-c19d-4aef-a668-c971f4170b43',\n",
      "  'label': 'ec2-52-90-106-58.compute-1.amazonaws.com',\n",
      "  'url_base': 'https://ec2-52-90-106-58.compute-1.amazonaws.com'},\n",
      " {'cluster_id': 2,\n",
      "  'install_uuid': '018dbb23-c19d-4aef-a668-c971f4170b43',\n",
      "  'label': 'ec2-52-90-106-01.compute-1.amazonaws.com',\n",
      "  'url_base': 'https://ec2-52-90-106-01.compute-1.amazonaws.com'},\n",
      " {'cluster_id': 3,\n",
      "  'install_uuid': '108dbb23-c19d-4aef-a668-c971f4170b43',\n",
      "  'label': 'ec2-52-90-106-02.compute-1.amazonaws.com',\n",
      "  'url_base': 'https://ec2-52-90-106-02.compute-1.amazonaws.com'},\n",
      " {'cluster_id': 4,\n",
      "  'install_uuid': 'c3256bdf-d5c7-421b-9882-f728c2ea8e23',\n",
      "  'label': '192.168.122.85',\n",
      "  'url_base': 'https://192.168.122.85'}]\n"
     ]
    }
   ],
   "source": [
    "rr = requests.post(SQL_URL, json={'query': 'select * from cluster'})\n",
    "pprint(rr.json())"
   ]
  },
  {
   "cell_type": "code",
   "execution_count": 234,
   "metadata": {},
   "outputs": [
    {
     "name": "stdout",
     "output_type": "stream",
     "text": [
      "[{'changed': False,\n",
      "  'cluster_id': 4,\n",
      "  'created': '2020-11-12T17:46:17.322752',\n",
      "  'deprecations': None,\n",
      "  'duration': 0.0,\n",
      "  'end': None,\n",
      "  'event': 'runner_on_start',\n",
      "  'failed': False,\n",
      "  'host_id': 45,\n",
      "  'host_name': 2072,\n",
      "  'id': 45650,\n",
      "  'job_id': 9,\n",
      "  'parent_uuid': '52540073-be9c-5b0a-b3df-000000000073',\n",
      "  'play': 1,\n",
      "  'playbook': 1,\n",
      "  'role': None,\n",
      "  'start': None,\n",
      "  'system_id': 13,\n",
      "  'task': 107,\n",
      "  'task_action': 105,\n",
      "  'uuid': 'd5f66086-1596-49ee-982f-247e97a6d0da',\n",
      "  'warnings': None},\n",
      " {'changed': False,\n",
      "  'cluster_id': 4,\n",
      "  'created': '2020-11-12T17:46:17.350356',\n",
      "  'deprecations': None,\n",
      "  'duration': 0.0,\n",
      "  'end': None,\n",
      "  'event': 'verbose',\n",
      "  'failed': False,\n",
      "  'host_id': None,\n",
      "  'host_name': None,\n",
      "  'id': 45651,\n",
      "  'job_id': 9,\n",
      "  'parent_uuid': '52540073-be9c-5b0a-b3df-000000000073',\n",
      "  'play': 1,\n",
      "  'playbook': 1,\n",
      "  'role': None,\n",
      "  'start': None,\n",
      "  'system_id': 13,\n",
      "  'task': 107,\n",
      "  'task_action': 105,\n",
      "  'uuid': 'dfb65c56-5521-40f7-b30b-e440388e28c6',\n",
      "  'warnings': None}]\n"
     ]
    }
   ],
   "source": [
    "sql = 'select * from job_events_fk where cluster_id=4 limit 2'\n",
    "rr = requests.post(SQL_URL, json={'query': sql})\n",
    "pprint(rr.json())"
   ]
  },
  {
   "cell_type": "code",
   "execution_count": 227,
   "metadata": {},
   "outputs": [
    {
     "name": "stdout",
     "output_type": "stream",
     "text": [
      "[\n",
      "  null,\n",
      "  51,\n",
      "  70,\n",
      "  42,\n",
      "  57,\n",
      "  19,\n",
      "  91,\n",
      "  10,\n",
      "  50,\n",
      "  13\n",
      "]\n"
     ]
    }
   ],
   "source": [
    "#print([json.dumps(x, indent=2) for x in tables if x['table'] == 'job_events_fk'])\n",
    "sql = 'select DISTINCT(host_id) from job_events_fk where cluster_id=4'\n",
    "#sql = 'select DISTINCT(host_name) from job_events_fk'\n",
    "rr = requests.post(SQL_URL, json={'query': sql})\n",
    "hostnames = [x['host_id'] for x in rr.json()]\n",
    "print(json.dumps(hostnames[:10], indent=2))"
   ]
  },
  {
   "cell_type": "code",
   "execution_count": 238,
   "metadata": {},
   "outputs": [
    {
     "name": "stdout",
     "output_type": "stream",
     "text": [
      "[{'duration': 27.442985, 'host_id': 52},\n",
      " {'duration': 14.8859, 'host_id': 102},\n",
      " {'duration': 14.548847, 'host_id': 26},\n",
      " {'duration': 14.148053, 'host_id': 78},\n",
      " {'duration': 14.015529, 'host_id': 94},\n",
      " {'duration': 13.992734, 'host_id': 37},\n",
      " {'duration': 13.977316, 'host_id': 74},\n",
      " {'duration': 13.870422, 'host_id': 72},\n",
      " {'duration': 13.810135, 'host_id': 62},\n",
      " {'duration': 13.716035, 'host_id': 36},\n",
      " {'duration': 13.652778, 'host_id': 60},\n",
      " {'duration': 13.60205, 'host_id': 21},\n",
      " {'duration': 13.56526, 'host_id': 95},\n",
      " {'duration': 13.449423, 'host_id': 63},\n",
      " {'duration': 13.167142, 'host_id': 68},\n",
      " {'duration': 12.945079, 'host_id': 89},\n",
      " {'duration': 12.911042, 'host_id': 29},\n",
      " {'duration': 12.811606, 'host_id': 35},\n",
      " {'duration': 12.809872, 'host_id': 9},\n",
      " {'duration': 12.559957, 'host_id': 54},\n",
      " {'duration': 12.500062, 'host_id': 2},\n",
      " {'duration': 12.422022, 'host_id': 100},\n",
      " {'duration': 12.377193, 'host_id': 58},\n",
      " {'duration': 12.230631, 'host_id': 22},\n",
      " {'duration': 12.205437, 'host_id': 49},\n",
      " {'duration': 12.009114, 'host_id': 64},\n",
      " {'duration': 11.999465, 'host_id': 16},\n",
      " {'duration': 11.94363, 'host_id': 97},\n",
      " {'duration': 11.938951, 'host_id': 92},\n",
      " {'duration': 11.8115, 'host_id': 13},\n",
      " {'duration': 11.75398, 'host_id': 84},\n",
      " {'duration': 11.743772, 'host_id': 10},\n",
      " {'duration': 11.6428, 'host_id': 23},\n",
      " {'duration': 11.569562, 'host_id': 41},\n",
      " {'duration': 11.485572, 'host_id': 99},\n",
      " {'duration': 11.354662, 'host_id': 7},\n",
      " {'duration': 11.165419, 'host_id': 20},\n",
      " {'duration': 11.149925, 'host_id': 96},\n",
      " {'duration': 10.707596, 'host_id': 85},\n",
      " {'duration': 10.692379, 'host_id': 77},\n",
      " {'duration': 10.567363, 'host_id': 87},\n",
      " {'duration': 10.487697, 'host_id': 55},\n",
      " {'duration': 9.782542, 'host_id': 48},\n",
      " {'duration': 9.723879, 'host_id': 57},\n",
      " {'duration': 9.715077, 'host_id': 90},\n",
      " {'duration': 9.671766, 'host_id': 38},\n",
      " {'duration': 9.549379, 'host_id': 88},\n",
      " {'duration': 9.31307, 'host_id': 25},\n",
      " {'duration': 9.13471, 'host_id': 101},\n",
      " {'duration': 8.990157, 'host_id': 31},\n",
      " {'duration': 8.958992, 'host_id': 47},\n",
      " {'duration': 8.93053, 'host_id': 82},\n",
      " {'duration': 8.909139, 'host_id': 71},\n",
      " {'duration': 8.835996, 'host_id': 66},\n",
      " {'duration': 8.677995, 'host_id': 50},\n",
      " {'duration': 8.557242, 'host_id': 44},\n",
      " {'duration': 8.538121, 'host_id': 12},\n",
      " {'duration': 8.474019, 'host_id': 27},\n",
      " {'duration': 8.37387, 'host_id': 80},\n",
      " {'duration': 8.159195, 'host_id': 45},\n",
      " {'duration': 7.648174, 'host_id': 5},\n",
      " {'duration': 7.635427, 'host_id': 18},\n",
      " {'duration': 7.615373, 'host_id': 14},\n",
      " {'duration': 7.538592, 'host_id': 6},\n",
      " {'duration': 7.420811, 'host_id': 8},\n",
      " {'duration': 7.103917, 'host_id': 65},\n",
      " {'duration': 6.941838, 'host_id': 30},\n",
      " {'duration': 6.793139, 'host_id': 3},\n",
      " {'duration': 6.690428, 'host_id': 86},\n",
      " {'duration': 6.654027, 'host_id': 51},\n",
      " {'duration': 6.452137, 'host_id': 61},\n",
      " {'duration': 6.325616, 'host_id': 17},\n",
      " {'duration': 6.152898, 'host_id': 73},\n",
      " {'duration': 6.063649, 'host_id': 24},\n",
      " {'duration': 6.035516, 'host_id': 83},\n",
      " {'duration': 6.027244, 'host_id': 75},\n",
      " {'duration': 6.004704, 'host_id': 28},\n",
      " {'duration': 5.889907, 'host_id': 53},\n",
      " {'duration': 5.876136, 'host_id': 33},\n",
      " {'duration': 5.733409, 'host_id': 98},\n",
      " {'duration': 5.731773, 'host_id': 4},\n",
      " {'duration': 5.699309, 'host_id': 11},\n",
      " {'duration': 5.663947, 'host_id': 34},\n",
      " {'duration': 5.484038, 'host_id': 39},\n",
      " {'duration': 5.429178, 'host_id': 19},\n",
      " {'duration': 5.164987, 'host_id': 70},\n",
      " {'duration': 5.156652, 'host_id': 15},\n",
      " {'duration': 5.087892, 'host_id': 69},\n",
      " {'duration': 4.947003, 'host_id': 67},\n",
      " {'duration': 4.916973, 'host_id': 79},\n",
      " {'duration': 4.886142, 'host_id': 59},\n",
      " {'duration': 4.829447, 'host_id': 91},\n",
      " {'duration': 4.809899, 'host_id': 32},\n",
      " {'duration': 4.78178, 'host_id': 81},\n",
      " {'duration': 4.73302, 'host_id': 93},\n",
      " {'duration': 4.695766, 'host_id': 42},\n",
      " {'duration': 4.682802, 'host_id': 46},\n",
      " {'duration': 4.578695, 'host_id': 40},\n",
      " {'duration': 4.515651, 'host_id': 76},\n",
      " {'duration': 4.502508, 'host_id': 56},\n",
      " {'duration': 4.462849, 'host_id': 43}]\n"
     ]
    }
   ],
   "source": [
    "host_sums = []\n",
    "for hid in hostnames:\n",
    "    if not hn:\n",
    "        continue\n",
    "    sql = f\"SELECT SUM(duration) FROM job_events_fk WHERE host_id='{hid}' AND duration > 0\"\n",
    "    #print(sql)\n",
    "    try:\n",
    "        rr = requests.post(SQL_URL, json={'query': sql})\n",
    "        #print(rr.reason)\n",
    "        #print(json.dumps(rr.json(), indent=2))\n",
    "        host_sums.append({'host_id': hid, 'duration': rr.json()[0]['sum']})\n",
    "    except Exception as e:\n",
    "        pass\n",
    "pprint(sorted(host_sums, key=lambda x: x['duration'], reverse=True))"
   ]
  },
  {
   "cell_type": "code",
   "execution_count": 236,
   "metadata": {},
   "outputs": [
    {
     "data": {
      "text/html": [
       "<div>\n",
       "<style scoped>\n",
       "    .dataframe tbody tr th:only-of-type {\n",
       "        vertical-align: middle;\n",
       "    }\n",
       "\n",
       "    .dataframe tbody tr th {\n",
       "        vertical-align: top;\n",
       "    }\n",
       "\n",
       "    .dataframe thead th {\n",
       "        text-align: right;\n",
       "    }\n",
       "</style>\n",
       "<table border=\"1\" class=\"dataframe\">\n",
       "  <thead>\n",
       "    <tr style=\"text-align: right;\">\n",
       "      <th></th>\n",
       "      <th>host_id</th>\n",
       "      <th>duration</th>\n",
       "    </tr>\n",
       "  </thead>\n",
       "  <tbody>\n",
       "    <tr>\n",
       "      <th>0</th>\n",
       "      <td>51</td>\n",
       "      <td>6.654027</td>\n",
       "    </tr>\n",
       "    <tr>\n",
       "      <th>1</th>\n",
       "      <td>70</td>\n",
       "      <td>5.164987</td>\n",
       "    </tr>\n",
       "    <tr>\n",
       "      <th>2</th>\n",
       "      <td>42</td>\n",
       "      <td>4.695766</td>\n",
       "    </tr>\n",
       "    <tr>\n",
       "      <th>3</th>\n",
       "      <td>57</td>\n",
       "      <td>9.723879</td>\n",
       "    </tr>\n",
       "    <tr>\n",
       "      <th>4</th>\n",
       "      <td>19</td>\n",
       "      <td>5.429178</td>\n",
       "    </tr>\n",
       "    <tr>\n",
       "      <th>...</th>\n",
       "      <td>...</td>\n",
       "      <td>...</td>\n",
       "    </tr>\n",
       "    <tr>\n",
       "      <th>96</th>\n",
       "      <td>17</td>\n",
       "      <td>6.325616</td>\n",
       "    </tr>\n",
       "    <tr>\n",
       "      <th>97</th>\n",
       "      <td>83</td>\n",
       "      <td>6.035516</td>\n",
       "    </tr>\n",
       "    <tr>\n",
       "      <th>98</th>\n",
       "      <td>63</td>\n",
       "      <td>13.449423</td>\n",
       "    </tr>\n",
       "    <tr>\n",
       "      <th>99</th>\n",
       "      <td>16</td>\n",
       "      <td>11.999465</td>\n",
       "    </tr>\n",
       "    <tr>\n",
       "      <th>100</th>\n",
       "      <td>55</td>\n",
       "      <td>10.487697</td>\n",
       "    </tr>\n",
       "  </tbody>\n",
       "</table>\n",
       "<p>101 rows × 2 columns</p>\n",
       "</div>"
      ],
      "text/plain": [
       "     host_id   duration\n",
       "0         51   6.654027\n",
       "1         70   5.164987\n",
       "2         42   4.695766\n",
       "3         57   9.723879\n",
       "4         19   5.429178\n",
       "..       ...        ...\n",
       "96        17   6.325616\n",
       "97        83   6.035516\n",
       "98        63  13.449423\n",
       "99        16  11.999465\n",
       "100       55  10.487697\n",
       "\n",
       "[101 rows x 2 columns]"
      ]
     },
     "execution_count": 236,
     "metadata": {},
     "output_type": "execute_result"
    }
   ],
   "source": [
    "df = pd.DataFrame.from_records(host_sums)\n",
    "df.fillna(0)"
   ]
  },
  {
   "cell_type": "code",
   "execution_count": 237,
   "metadata": {},
   "outputs": [
    {
     "data": {
      "text/plain": [
       "<AxesSubplot:ylabel='Frequency'>"
      ]
     },
     "execution_count": 237,
     "metadata": {},
     "output_type": "execute_result"
    },
    {
     "data": {
      "image/png": "[encoded data removed]",
      "text/plain": [
       "<Figure size 432x288 with 1 Axes>"
      ]
     },
     "metadata": {
      "needs_background": "light"
     },
     "output_type": "display_data"
    }
   ],
   "source": [
    "df['duration'].plot(kind='hist')"
   ]
  },
  {
   "cell_type": "code",
   "execution_count": null,
   "metadata": {},
   "outputs": [],
   "source": []
  }
 ],
 "metadata": {
  "kernelspec": {
   "display_name": "Python 3",
   "language": "python",
   "name": "python3"
  },
  "language_info": {
   "codemirror_mode": {
    "name": "ipython",
    "version": 3
   },
   "file_extension": ".py",
   "mimetype": "text/x-python",
   "name": "python",
   "nbconvert_exporter": "python",
   "pygments_lexer": "ipython3",
   "version": "3.8.6"
  }
 },
 "nbformat": 4,
 "nbformat_minor": 4
}
