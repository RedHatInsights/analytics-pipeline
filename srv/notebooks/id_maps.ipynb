{
 "cells": [
  {
   "cell_type": "code",
   "execution_count": 13,
   "metadata": {},
   "outputs": [],
   "source": [
    "import json\n",
    "import requests\n",
    "import pandas as pd\n",
    "from pprint import pprint"
   ]
  },
  {
   "cell_type": "code",
   "execution_count": 14,
   "metadata": {},
   "outputs": [],
   "source": [
    "FASTAPI = 'http://172.27.0.12:8080'\n",
    "TABLES_URL = FASTAPI + '/api/tower-analytics/v1/tables'\n",
    "SQL_URL = FASTAPI + '/api/tower-analytics/v1/sql'"
   ]
  },
  {
   "cell_type": "code",
   "execution_count": 26,
   "metadata": {},
   "outputs": [
    {
     "name": "stdout",
     "output_type": "stream",
     "text": [
      "[{'id': 1, 'name': 'None'},\n",
      " {'id': 105, 'name': 'shell'},\n",
      " {'id': 106, 'name': 'command'},\n",
      " {'id': 107, 'name': 'ping'},\n",
      " {'id': 109, 'name': 'uname -a'},\n",
      " {'id': 111, 'name': 'ping1'},\n",
      " {'id': 112, 'name': 'whoami'},\n",
      " {'id': 113, 'name': 'sleep randomly'},\n",
      " {'id': 114, 'name': 'issue'}]\n"
     ]
    }
   ],
   "source": [
    "sql = 'select id,name from task'\n",
    "rr = requests.post(SQL_URL, json={'query': sql})\n",
    "pprint([x for x in rr.json() if 'super_task' not in x['name']])"
   ]
  },
  {
   "cell_type": "code",
   "execution_count": 25,
   "metadata": {},
   "outputs": [
    {
     "name": "stdout",
     "output_type": "stream",
     "text": [
      "[{'id': 3, 'name': 'None'},\n",
      " {'id': 105, 'name': '\"ping\"'},\n",
      " {'id': 106, 'name': '\"command\"'},\n",
      " {'id': 107, 'name': '\"shell\"'}]\n"
     ]
    }
   ],
   "source": [
    "sql = 'select id,name from task_action'\n",
    "rr = requests.post(SQL_URL, json={'query': sql})\n",
    "pprint([x for x in rr.json() if 'verbose_module' not in x['name']])"
   ]
  },
  {
   "cell_type": "code",
   "execution_count": 27,
   "metadata": {},
   "outputs": [
    {
     "name": "stdout",
     "output_type": "stream",
     "text": [
      "[{'id': 1, 'name': 'localhost'},\n",
      " {'id': 2016, 'name': 'host-3'},\n",
      " {'id': 2017, 'name': 'host-96'},\n",
      " {'id': 2018, 'name': 'host-67'},\n",
      " {'id': 2019, 'name': 'host-76'},\n",
      " {'id': 2020, 'name': 'host-5'},\n",
      " {'id': 2021, 'name': 'host-50'},\n",
      " {'id': 2022, 'name': 'host-62'},\n",
      " {'id': 2023, 'name': 'host-55'},\n",
      " {'id': 2024, 'name': 'host-7'},\n",
      " {'id': 2025, 'name': 'host-15'},\n",
      " {'id': 2026, 'name': 'host-69'},\n",
      " {'id': 2027, 'name': 'host-90'},\n",
      " {'id': 2028, 'name': 'host-98'},\n",
      " {'id': 2029, 'name': 'host-34'},\n",
      " {'id': 2030, 'name': 'host-11'},\n",
      " {'id': 2031, 'name': 'host-79'},\n",
      " {'id': 2032, 'name': 'host-16'},\n",
      " {'id': 2033, 'name': 'host-91'},\n",
      " {'id': 2034, 'name': 'host-48'},\n",
      " {'id': 2035, 'name': 'host-6'},\n",
      " {'id': 2036, 'name': 'host-32'},\n",
      " {'id': 2037, 'name': 'host-46'},\n",
      " {'id': 2038, 'name': 'host-42'},\n",
      " {'id': 2039, 'name': 'host-36'},\n",
      " {'id': 2040, 'name': 'host-13'},\n",
      " {'id': 2041, 'name': 'host-85'},\n",
      " {'id': 2042, 'name': 'host-70'},\n",
      " {'id': 2043, 'name': 'host-9'},\n",
      " {'id': 2044, 'name': 'host-14'},\n",
      " {'id': 2045, 'name': 'host-47'},\n",
      " {'id': 2046, 'name': 'host-2'},\n",
      " {'id': 2047, 'name': 'host-95'},\n",
      " {'id': 2048, 'name': 'host-60'},\n",
      " {'id': 2049, 'name': 'host-44'},\n",
      " {'id': 2050, 'name': 'host-10'},\n",
      " {'id': 2051, 'name': 'host-97'},\n",
      " {'id': 2052, 'name': 'host-22'},\n",
      " {'id': 2053, 'name': 'host-31'},\n",
      " {'id': 2054, 'name': 'host-53'},\n",
      " {'id': 2055, 'name': 'host-41'},\n",
      " {'id': 2056, 'name': 'host-75'},\n",
      " {'id': 2057, 'name': 'host-58'},\n",
      " {'id': 2058, 'name': 'host-27'},\n",
      " {'id': 2059, 'name': 'host-65'},\n",
      " {'id': 2060, 'name': 'host-66'},\n",
      " {'id': 2061, 'name': 'host-86'},\n",
      " {'id': 2062, 'name': 'host-35'},\n",
      " {'id': 2063, 'name': 'host-33'},\n",
      " {'id': 2064, 'name': 'host-71'},\n",
      " {'id': 2065, 'name': 'host-99'},\n",
      " {'id': 2066, 'name': 'host-18'},\n",
      " {'id': 2067, 'name': 'host-81'},\n",
      " {'id': 2068, 'name': 'host-23'},\n",
      " {'id': 2069, 'name': 'host-38'},\n",
      " {'id': 2070, 'name': 'host-12'},\n",
      " {'id': 2071, 'name': 'host-89'},\n",
      " {'id': 2072, 'name': 'host-43'},\n",
      " {'id': 2073, 'name': 'host-49'},\n",
      " {'id': 2074, 'name': 'host-92'},\n",
      " {'id': 2075, 'name': 'host-52'},\n",
      " {'id': 2076, 'name': 'host-78'},\n",
      " {'id': 2077, 'name': 'host-74'},\n",
      " {'id': 2078, 'name': 'host-93'},\n",
      " {'id': 2079, 'name': 'host-21'},\n",
      " {'id': 2080, 'name': 'host-26'},\n",
      " {'id': 2081, 'name': 'host-8'},\n",
      " {'id': 2082, 'name': 'host-1'},\n",
      " {'id': 2083, 'name': 'host-0'},\n",
      " {'id': 2084, 'name': 'host-28'},\n",
      " {'id': 2085, 'name': 'host-87'},\n",
      " {'id': 2086, 'name': 'host-73'},\n",
      " {'id': 2087, 'name': 'host-77'},\n",
      " {'id': 2088, 'name': 'host-59'},\n",
      " {'id': 2089, 'name': 'host-61'},\n",
      " {'id': 2090, 'name': 'host-56'},\n",
      " {'id': 2091, 'name': 'host-54'},\n",
      " {'id': 2092, 'name': 'host-45'},\n",
      " {'id': 2093, 'name': 'host-20'},\n",
      " {'id': 2094, 'name': 'host-30'},\n",
      " {'id': 2095, 'name': 'host-25'},\n",
      " {'id': 2096, 'name': 'host-72'},\n",
      " {'id': 2097, 'name': 'host-24'},\n",
      " {'id': 2098, 'name': 'host-94'},\n",
      " {'id': 2099, 'name': 'host-80'},\n",
      " {'id': 2100, 'name': 'host-88'},\n",
      " {'id': 2101, 'name': 'host-37'},\n",
      " {'id': 2102, 'name': 'host-63'},\n",
      " {'id': 2103, 'name': 'host-4'},\n",
      " {'id': 2104, 'name': 'host-84'},\n",
      " {'id': 2105, 'name': 'host-39'},\n",
      " {'id': 2106, 'name': 'host-83'},\n",
      " {'id': 2107, 'name': 'host-68'},\n",
      " {'id': 2108, 'name': 'host-17'},\n",
      " {'id': 2109, 'name': 'host-40'},\n",
      " {'id': 2110, 'name': 'host-57'},\n",
      " {'id': 2111, 'name': 'host-82'},\n",
      " {'id': 2112, 'name': 'host-64'},\n",
      " {'id': 2113, 'name': 'host-19'},\n",
      " {'id': 2114, 'name': 'host-51'},\n",
      " {'id': 2115, 'name': 'host-29'},\n",
      " {'id': 2116, 'name': 'host-100'}]\n"
     ]
    }
   ],
   "source": [
    "sql = 'select id,name from host limit 10000'\n",
    "rr = requests.post(SQL_URL, json={'query': sql})\n",
    "pprint([x for x in rr.json() if 'host_name' not in x['name']])"
   ]
  },
  {
   "cell_type": "code",
   "execution_count": null,
   "metadata": {},
   "outputs": [],
   "source": []
  }
 ],
 "metadata": {
  "kernelspec": {
   "display_name": "Python 3",
   "language": "python",
   "name": "python3"
  },
  "language_info": {
   "codemirror_mode": {
    "name": "ipython",
    "version": 3
   },
   "file_extension": ".py",
   "mimetype": "text/x-python",
   "name": "python",
   "nbconvert_exporter": "python",
   "pygments_lexer": "ipython3",
   "version": "3.8.6"
  }
 },
 "nbformat": 4,
 "nbformat_minor": 4
}
